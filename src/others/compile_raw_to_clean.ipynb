{
 "cells": [
  {
   "cell_type": "code",
   "execution_count": 4,
   "id": "e5d11fce",
   "metadata": {},
   "outputs": [],
   "source": [
    "import polars as pl\n",
    "import os"
   ]
  },
  {
   "cell_type": "code",
   "execution_count": 5,
   "id": "b5f57fb7",
   "metadata": {},
   "outputs": [],
   "source": [
    "### INSERT DATE HERE ###\n",
    "date = \"2025-08-14\"\n",
    "########################\n",
    "\n",
    "year = date.split(\"-\")[0]\n",
    "month = date.split(\"-\")[1]\n",
    "day = date.split(\"-\")[2]\n",
    "date_with_slashes = date.replace(\"-\", \"/\")"
   ]
  },
  {
   "cell_type": "code",
   "execution_count": 6,
   "id": "6875efbf",
   "metadata": {},
   "outputs": [
    {
     "name": "stdout",
     "output_type": "stream",
     "text": [
      "(140640, 7)\n",
      "File saved in ../../data/station_status/clean/2025/08/velib_2025-08-14.csv\n"
     ]
    }
   ],
   "source": [
    "os.makedirs(f\"../../data/station_status/clean/{year}/{month}\", exist_ok=True)\n",
    "\n",
    "schema = {\n",
    "    \"stationCode\": pl.Int64,\n",
    "    \"num_bikes_available\": pl.Int64,\n",
    "    \"num_docks_available\": pl.Int64,\n",
    "    \"is_working\": pl.Int64,\n",
    "    \"num_mechanical_bikes_available\": pl.Int64,\n",
    "    \"num_ebike_bikes_available\": pl.Int64,\n",
    "    \"updated_at\": pl.Utf8,\n",
    "}\n",
    "\n",
    "full_df = pl.DataFrame()\n",
    "for file in os.listdir(f\"../../data/station_status/raw/{date_with_slashes}\"):\n",
    "    df = pl.read_csv(f\"../../data/station_status/raw/{date_with_slashes}/{file}\", schema=schema)\n",
    "    full_df = pl.concat([full_df, df])\n",
    "\n",
    "full_df = full_df.sort(\"updated_at\")\n",
    "print(full_df.shape)\n",
    "full_df.write_csv(f\"../../data/station_status/clean/{year}/{month}/velib_{date}.csv\")\n",
    "print(f\"File saved in ../../data/station_status/clean/{year}/{month}/velib_{date}.csv\")"
   ]
  }
 ],
 "metadata": {
  "kernelspec": {
   "display_name": "velib-data-env",
   "language": "python",
   "name": "python3"
  },
  "language_info": {
   "codemirror_mode": {
    "name": "ipython",
    "version": 3
   },
   "file_extension": ".py",
   "mimetype": "text/x-python",
   "name": "python",
   "nbconvert_exporter": "python",
   "pygments_lexer": "ipython3",
   "version": "3.11.2"
  }
 },
 "nbformat": 4,
 "nbformat_minor": 5
}
