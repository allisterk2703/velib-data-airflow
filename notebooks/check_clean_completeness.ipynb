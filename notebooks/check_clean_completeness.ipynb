{
 "cells": [
  {
   "cell_type": "code",
   "execution_count": 1,
   "id": "eecaddb3",
   "metadata": {},
   "outputs": [],
   "source": [
    "import os\n",
    "from pathlib import Path\n",
    "import polars as pl"
   ]
  },
  {
   "cell_type": "markdown",
   "id": "ea96b715",
   "metadata": {},
   "source": [
    "##### Check that every \"clean\" day has 96 dates"
   ]
  },
  {
   "cell_type": "code",
   "execution_count": 4,
   "id": "ee0312f0",
   "metadata": {},
   "outputs": [
    {
     "name": "stdout",
     "output_type": "stream",
     "text": [
      "❌ ../data/station_status/clean/2025/07/velib_2025-07-06.csv: 97 dates\n",
      "❌ ../data/station_status/clean/2025/07/velib_2025-07-10.csv: 83 dates\n",
      "❌ ../data/station_status/clean/2025/07/velib_2025-07-12.csv: 20 dates\n",
      "❌ ../data/station_status/clean/2025/07/velib_2025-07-14.csv: 95 dates\n",
      "❌ ../data/station_status/clean/2025/07/velib_2025-07-23.csv: 95 dates\n",
      "❌ ../data/station_status/clean/2025/07/velib_2025-07-24.csv: 81 dates\n",
      "❌ ../data/station_status/clean/2025/07/velib_2025-07-27.csv: 86 dates\n",
      "❌ ../data/station_status/clean/2025/08/velib_2025-08-17.csv: 85 dates\n"
     ]
    }
   ],
   "source": [
    "CLEAN_DATA_PATH = Path(\"../data/station_status/clean\")\n",
    "\n",
    "for year in sorted(os.listdir(CLEAN_DATA_PATH)):\n",
    "\tfor month in sorted(os.listdir(CLEAN_DATA_PATH / year)):\n",
    "\t\tfor file in sorted(os.listdir(CLEAN_DATA_PATH / year / month)):\n",
    "\t\t\tif file.endswith(\".csv\"):\n",
    "\t\t\t\tdf = pl.read_csv(CLEAN_DATA_PATH / year / month / file)\n",
    "\t\t\t\tif df[\"updated_at\"].n_unique() != 96:\n",
    "\t\t\t\t\tprint(f\"❌ {CLEAN_DATA_PATH / year / month / file}: {df['updated_at'].n_unique()} dates\")"
   ]
  }
 ],
 "metadata": {
  "kernelspec": {
   "display_name": "velib-data-env",
   "language": "python",
   "name": "python3"
  },
  "language_info": {
   "codemirror_mode": {
    "name": "ipython",
    "version": 3
   },
   "file_extension": ".py",
   "mimetype": "text/x-python",
   "name": "python",
   "nbconvert_exporter": "python",
   "pygments_lexer": "ipython3",
   "version": "3.11.2"
  }
 },
 "nbformat": 4,
 "nbformat_minor": 5
}
