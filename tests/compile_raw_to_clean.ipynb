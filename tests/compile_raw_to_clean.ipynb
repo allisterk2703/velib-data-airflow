{
 "cells": [
  {
   "cell_type": "code",
   "execution_count": 2,
   "id": "e5d11fce",
   "metadata": {},
   "outputs": [],
   "source": [
    "import polars as pl\n",
    "import os"
   ]
  },
  {
   "cell_type": "code",
   "execution_count": 3,
   "id": "b5f57fb7",
   "metadata": {},
   "outputs": [],
   "source": [
    "### INSERT DATE HERE ###\n",
    "date = \"2025-06-14\"\n",
    "########################\n",
    "\n",
    "year = date.split(\"-\")[0]\n",
    "month = date.split(\"-\")[1]\n",
    "day = date.split(\"-\")[2]\n",
    "date_with_slashes = date.replace(\"-\", \"/\")"
   ]
  },
  {
   "cell_type": "code",
   "execution_count": 4,
   "id": "6875efbf",
   "metadata": {},
   "outputs": [
    {
     "ename": "FileNotFoundError",
     "evalue": "[Errno 2] No such file or directory: '../data/station_status/raw/2025/06/14'",
     "output_type": "error",
     "traceback": [
      "\u001b[0;31m---------------------------------------------------------------------------\u001b[0m",
      "\u001b[0;31mFileNotFoundError\u001b[0m                         Traceback (most recent call last)",
      "Cell \u001b[0;32mIn[4], line 14\u001b[0m\n\u001b[1;32m      3\u001b[0m schema \u001b[38;5;241m=\u001b[39m {\n\u001b[1;32m      4\u001b[0m     \u001b[38;5;124m\"\u001b[39m\u001b[38;5;124mstationCode\u001b[39m\u001b[38;5;124m\"\u001b[39m: pl\u001b[38;5;241m.\u001b[39mInt64,\n\u001b[1;32m      5\u001b[0m     \u001b[38;5;124m\"\u001b[39m\u001b[38;5;124mnum_bikes_available\u001b[39m\u001b[38;5;124m\"\u001b[39m: pl\u001b[38;5;241m.\u001b[39mInt64,\n\u001b[0;32m   (...)\u001b[0m\n\u001b[1;32m     10\u001b[0m     \u001b[38;5;124m\"\u001b[39m\u001b[38;5;124mupdated_at\u001b[39m\u001b[38;5;124m\"\u001b[39m: pl\u001b[38;5;241m.\u001b[39mUtf8\n\u001b[1;32m     11\u001b[0m }\n\u001b[1;32m     13\u001b[0m full_df \u001b[38;5;241m=\u001b[39m pl\u001b[38;5;241m.\u001b[39mDataFrame()\n\u001b[0;32m---> 14\u001b[0m \u001b[38;5;28;01mfor\u001b[39;00m file \u001b[38;5;129;01min\u001b[39;00m \u001b[43mos\u001b[49m\u001b[38;5;241;43m.\u001b[39;49m\u001b[43mlistdir\u001b[49m\u001b[43m(\u001b[49m\u001b[38;5;124;43mf\u001b[39;49m\u001b[38;5;124;43m\"\u001b[39;49m\u001b[38;5;124;43m../data/station_status/raw/\u001b[39;49m\u001b[38;5;132;43;01m{\u001b[39;49;00m\u001b[43mdate_with_slashes\u001b[49m\u001b[38;5;132;43;01m}\u001b[39;49;00m\u001b[38;5;124;43m\"\u001b[39;49m\u001b[43m)\u001b[49m:\n\u001b[1;32m     15\u001b[0m     df \u001b[38;5;241m=\u001b[39m pl\u001b[38;5;241m.\u001b[39mread_csv(\u001b[38;5;124mf\u001b[39m\u001b[38;5;124m\"\u001b[39m\u001b[38;5;124m../data/station_status/raw/\u001b[39m\u001b[38;5;132;01m{\u001b[39;00mdate_with_slashes\u001b[38;5;132;01m}\u001b[39;00m\u001b[38;5;124m/\u001b[39m\u001b[38;5;132;01m{\u001b[39;00mfile\u001b[38;5;132;01m}\u001b[39;00m\u001b[38;5;124m\"\u001b[39m, schema\u001b[38;5;241m=\u001b[39mschema)\n\u001b[1;32m     16\u001b[0m     full_df \u001b[38;5;241m=\u001b[39m pl\u001b[38;5;241m.\u001b[39mconcat([full_df, df])\n",
      "\u001b[0;31mFileNotFoundError\u001b[0m: [Errno 2] No such file or directory: '../data/station_status/raw/2025/06/14'"
     ]
    }
   ],
   "source": [
    "os.makedirs(f\"../data/station_status/clean/{year}/{month}\", exist_ok=True)\n",
    "\n",
    "schema = {\n",
    "    \"stationCode\": pl.Int64,\n",
    "    \"num_bikes_available\": pl.Int64,\n",
    "    \"num_docks_available\": pl.Int64,\n",
    "    \"is_working\": pl.Int64,\n",
    "    \"num_mechanical_bikes_available\": pl.Int64,\n",
    "    \"num_ebike_bikes_available\": pl.Int64,\n",
    "    \"updated_at\": pl.Utf8\n",
    "}\n",
    "\n",
    "full_df = pl.DataFrame()\n",
    "for file in os.listdir(f\"../data/station_status/raw/{date_with_slashes}\"):\n",
    "    df = pl.read_csv(f\"../data/station_status/raw/{date_with_slashes}/{file}\", schema=schema)\n",
    "    full_df = pl.concat([full_df, df])\n",
    "\n",
    "full_df = full_df.sort(\"updated_at\")\n",
    "print(full_df.shape)\n",
    "full_df.write_csv(f\"../data/station_status/clean/{year}/{month}/velib_{date}.csv\")\n",
    "print(f\"File saved in ../data/station_status/clean/{year}/{month}/velib_{date}.csv\")"
   ]
  }
 ],
 "metadata": {
  "kernelspec": {
   "display_name": "velib-data-env",
   "language": "python",
   "name": "python3"
  },
  "language_info": {
   "codemirror_mode": {
    "name": "ipython",
    "version": 3
   },
   "file_extension": ".py",
   "mimetype": "text/x-python",
   "name": "python",
   "nbconvert_exporter": "python",
   "pygments_lexer": "ipython3",
   "version": "3.11.2"
  }
 },
 "nbformat": 4,
 "nbformat_minor": 5
}
