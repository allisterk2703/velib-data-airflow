{
 "cells": [
  {
   "cell_type": "code",
   "execution_count": 14,
   "id": "578c5911",
   "metadata": {},
   "outputs": [],
   "source": [
    "import os\n",
    "import os.path as op\n",
    "from datetime import datetime, timedelta\n",
    "import polars as pl\n",
    "\n",
    "# Limiter un peu le parallélisme\n",
    "os.environ[\"POLARS_MAX_THREADS\"] = \"2\"\n",
    "os.environ[\"OMP_NUM_THREADS\"] = \"2\"\n",
    "os.environ[\"OPENBLAS_NUM_THREADS\"] = \"2\"\n",
    "os.environ[\"MKL_NUM_THREADS\"] = \"2\"\n",
    "os.environ[\"NUMEXPR_NUM_THREADS\"] = \"2\""
   ]
  },
  {
   "cell_type": "code",
   "execution_count": 15,
   "id": "0fe02cb4",
   "metadata": {},
   "outputs": [],
   "source": [
    "parquet_path = \"../data/station_status/full/full_velib_data.parquet\"\n",
    "\n",
    "lf = pl.scan_parquet(parquet_path)"
   ]
  },
  {
   "cell_type": "code",
   "execution_count": 16,
   "id": "4fdc8a31",
   "metadata": {},
   "outputs": [
    {
     "name": "stdout",
     "output_type": "stream",
     "text": [
      "stationCode: String\n",
      "num_bikes_available: Int64\n",
      "num_docks_available: Int64\n",
      "is_working: Boolean\n",
      "num_mechanical_bikes_available: Int64\n",
      "num_ebike_bikes_available: Int64\n",
      "updated_at: Datetime(time_unit='ns', time_zone=None)\n"
     ]
    }
   ],
   "source": [
    "schema = lf.collect_schema()\n",
    "for col, dtype in schema.items():\n",
    "    print(f\"{col}: {dtype}\")"
   ]
  },
  {
   "cell_type": "code",
   "execution_count": 17,
   "id": "bdb2188e",
   "metadata": {},
   "outputs": [
    {
     "name": "stdout",
     "output_type": "stream",
     "text": [
      "shape(rows, cols): (4186903, 7)\n"
     ]
    }
   ],
   "source": [
    "n_rows = lf.select(pl.len()).collect().item()\n",
    "print(\"shape(rows, cols):\", (n_rows, len(schema)))"
   ]
  },
  {
   "cell_type": "code",
   "execution_count": 18,
   "id": "e9b54fff",
   "metadata": {},
   "outputs": [
    {
     "name": "stdout",
     "output_type": "stream",
     "text": [
      "Taille du fichier parquet : 17.11 Mo\n"
     ]
    }
   ],
   "source": [
    "taille_mo = op.getsize(parquet_path) / (1024 ** 2)\n",
    "print(f\"Taille du fichier parquet : {taille_mo:.2f} Mo\")"
   ]
  },
  {
   "cell_type": "code",
   "execution_count": 19,
   "metadata": {},
   "outputs": [
    {
     "name": "stdout",
     "output_type": "stream",
     "text": [
      "DataFrame matériel (shape): (4186903, 7)\n"
     ]
    },
    {
     "data": {
      "text/html": [
       "<div><style>\n",
       ".dataframe > thead > tr,\n",
       ".dataframe > tbody > tr {\n",
       "  text-align: right;\n",
       "  white-space: pre-wrap;\n",
       "}\n",
       "</style>\n",
       "<small>shape: (10, 7)</small><table border=\"1\" class=\"dataframe\"><thead><tr><th>stationCode</th><th>num_bikes_available</th><th>num_docks_available</th><th>is_working</th><th>num_mechanical_bikes_available</th><th>num_ebike_bikes_available</th><th>updated_at</th></tr><tr><td>str</td><td>i64</td><td>i64</td><td>bool</td><td>i64</td><td>i64</td><td>datetime[ns]</td></tr></thead><tbody><tr><td>&quot;16107&quot;</td><td>3</td><td>32</td><td>true</td><td>2</td><td>1</td><td>2025-07-12 18:59:18</td></tr><tr><td>&quot;2021&quot;</td><td>8</td><td>49</td><td>true</td><td>4</td><td>4</td><td>2025-07-12 18:59:18</td></tr><tr><td>&quot;12020&quot;</td><td>5</td><td>39</td><td>true</td><td>0</td><td>5</td><td>2025-07-12 18:59:18</td></tr><tr><td>&quot;15111&quot;</td><td>4</td><td>20</td><td>true</td><td>2</td><td>2</td><td>2025-07-12 18:59:18</td></tr><tr><td>&quot;13017&quot;</td><td>4</td><td>27</td><td>true</td><td>3</td><td>1</td><td>2025-07-12 18:59:18</td></tr><tr><td>&quot;1102&quot;</td><td>7</td><td>30</td><td>true</td><td>6</td><td>1</td><td>2025-07-12 18:59:18</td></tr><tr><td>&quot;22503&quot;</td><td>12</td><td>8</td><td>true</td><td>9</td><td>3</td><td>2025-07-12 18:59:18</td></tr><tr><td>&quot;2003&quot;</td><td>12</td><td>20</td><td>true</td><td>7</td><td>5</td><td>2025-07-12 18:59:18</td></tr><tr><td>&quot;20029&quot;</td><td>2</td><td>21</td><td>true</td><td>1</td><td>1</td><td>2025-07-12 18:59:18</td></tr><tr><td>&quot;24006&quot;</td><td>4</td><td>33</td><td>true</td><td>2</td><td>2</td><td>2025-07-12 18:59:18</td></tr></tbody></table></div>"
      ],
      "text/plain": [
       "shape: (10, 7)\n",
       "┌─────────────┬──────────────┬──────────────┬────────────┬─────────────┬─────────────┬─────────────┐\n",
       "│ stationCode ┆ num_bikes_av ┆ num_docks_av ┆ is_working ┆ num_mechani ┆ num_ebike_b ┆ updated_at  │\n",
       "│ ---         ┆ ailable      ┆ ailable      ┆ ---        ┆ cal_bikes_a ┆ ikes_availa ┆ ---         │\n",
       "│ str         ┆ ---          ┆ ---          ┆ bool       ┆ vailable    ┆ ble         ┆ datetime[ns │\n",
       "│             ┆ i64          ┆ i64          ┆            ┆ ---         ┆ ---         ┆ ]           │\n",
       "│             ┆              ┆              ┆            ┆ i64         ┆ i64         ┆             │\n",
       "╞═════════════╪══════════════╪══════════════╪════════════╪═════════════╪═════════════╪═════════════╡\n",
       "│ 16107       ┆ 3            ┆ 32           ┆ true       ┆ 2           ┆ 1           ┆ 2025-07-12  │\n",
       "│             ┆              ┆              ┆            ┆             ┆             ┆ 18:59:18    │\n",
       "│ 2021        ┆ 8            ┆ 49           ┆ true       ┆ 4           ┆ 4           ┆ 2025-07-12  │\n",
       "│             ┆              ┆              ┆            ┆             ┆             ┆ 18:59:18    │\n",
       "│ 12020       ┆ 5            ┆ 39           ┆ true       ┆ 0           ┆ 5           ┆ 2025-07-12  │\n",
       "│             ┆              ┆              ┆            ┆             ┆             ┆ 18:59:18    │\n",
       "│ 15111       ┆ 4            ┆ 20           ┆ true       ┆ 2           ┆ 2           ┆ 2025-07-12  │\n",
       "│             ┆              ┆              ┆            ┆             ┆             ┆ 18:59:18    │\n",
       "│ 13017       ┆ 4            ┆ 27           ┆ true       ┆ 3           ┆ 1           ┆ 2025-07-12  │\n",
       "│             ┆              ┆              ┆            ┆             ┆             ┆ 18:59:18    │\n",
       "│ 1102        ┆ 7            ┆ 30           ┆ true       ┆ 6           ┆ 1           ┆ 2025-07-12  │\n",
       "│             ┆              ┆              ┆            ┆             ┆             ┆ 18:59:18    │\n",
       "│ 22503       ┆ 12           ┆ 8            ┆ true       ┆ 9           ┆ 3           ┆ 2025-07-12  │\n",
       "│             ┆              ┆              ┆            ┆             ┆             ┆ 18:59:18    │\n",
       "│ 2003        ┆ 12           ┆ 20           ┆ true       ┆ 7           ┆ 5           ┆ 2025-07-12  │\n",
       "│             ┆              ┆              ┆            ┆             ┆             ┆ 18:59:18    │\n",
       "│ 20029       ┆ 2            ┆ 21           ┆ true       ┆ 1           ┆ 1           ┆ 2025-07-12  │\n",
       "│             ┆              ┆              ┆            ┆             ┆             ┆ 18:59:18    │\n",
       "│ 24006       ┆ 4            ┆ 33           ┆ true       ┆ 2           ┆ 2           ┆ 2025-07-12  │\n",
       "│             ┆              ┆              ┆            ┆             ┆             ┆ 18:59:18    │\n",
       "└─────────────┴──────────────┴──────────────┴────────────┴─────────────┴─────────────┴─────────────┘"
      ]
     },
     "execution_count": 19,
     "metadata": {},
     "output_type": "execute_result"
    }
   ],
   "source": [
    "df = lf.collect(engine=\"streaming\")\n",
    "\n",
    "print(\"DataFrame matériel (shape):\", df.shape)\n",
    "df.head(10)"
   ]
  },
  {
   "cell_type": "code",
   "execution_count": null,
   "id": "28d02fb1",
   "metadata": {},
   "outputs": [],
   "source": []
  }
 ],
 "metadata": {
  "kernelspec": {
   "display_name": "velib-data-env",
   "language": "python",
   "name": "python3"
  },
  "language_info": {
   "codemirror_mode": {
    "name": "ipython",
    "version": 3
   },
   "file_extension": ".py",
   "mimetype": "text/x-python",
   "name": "python",
   "nbconvert_exporter": "python",
   "pygments_lexer": "ipython3",
   "version": "3.11.2"
  }
 },
 "nbformat": 4,
 "nbformat_minor": 5
}
